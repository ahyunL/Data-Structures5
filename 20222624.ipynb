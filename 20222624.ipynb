{
  "nbformat": 4,
  "nbformat_minor": 0,
  "metadata": {
    "colab": {
      "provenance": []
    },
    "kernelspec": {
      "name": "python3",
      "display_name": "Python 3"
    },
    "language_info": {
      "name": "python"
    }
  },
  "cells": [
    {
      "cell_type": "markdown",
      "source": [
        "# __DS 과제5__"
      ],
      "metadata": {
        "id": "Q93JSVZoKSt7"
      }
    },
    {
      "cell_type": "markdown",
      "source": [
        "### __3. 생일이 느린 순서로 10명의 친구 출력__"
      ],
      "metadata": {
        "id": "gPSKtMGhKeul"
      }
    },
    {
      "cell_type": "code",
      "execution_count": 1,
      "metadata": {
        "id": "6p5aC2bH6NHU"
      },
      "outputs": [],
      "source": [
        "class Heap:\n",
        "\tdef __init__(self, *args):\n",
        "\t\tif len(args) != 0:\n",
        "\t\t\tself.__A = args[0] # 파라미터로 온 리스트\n",
        "\t\telse:\n",
        "\t\t\tself.__A = []\n",
        "\n",
        "\t# [알고리즘 8-2] 구현: 힙에 원소 삽입하기(재귀 알고리즘 버전)\n",
        "\tdef insert(self, x):\n",
        "\t\tself.__A.append(x)\n",
        "\t\tself.__percolateUp(len(self.__A)-1)\n",
        "\n",
        "\t# 스며오르기\n",
        "\tdef __percolateUp(self, i:int):\n",
        "\t\tparent = (i - 1) // 2\n",
        "\t\tif i > 0 and self.__A[i] > self.__A[parent]:\n",
        "\t\t\tself.__A[i], self.__A[parent] = self.__A[parent], self.__A[i]\n",
        "\t\t\tself.__percolateUp(parent)\n",
        "\n",
        "\t# [알고리즘 8-2] 구현: 힙에서 원소 삭제하기\n",
        "\tdef deleteMax(self):\n",
        "\t\t# heap is in self.__A[0...len(self.__A)-1]\n",
        "\t\tif (not self.isEmpty()):\n",
        "\t\t\tmax = self.__A[0]\n",
        "\t\t\tself.__A[0] = self.__A.pop() # *.pop(): 리스트의 끝원소 삭제 후 원소 리턴\n",
        "\t\t\tself.__percolateDown(0)\n",
        "\t\t\treturn max\n",
        "\t\telse:\n",
        "\t\t\treturn None\n",
        "\n",
        "\t# 스며내리기\n",
        "\tdef __percolateDown(self, i:int):\n",
        "\t\t# Percolate down w/ self.__A[i] as the root\n",
        "\t\tchild = 2 * i + 1  # left child\n",
        "\t\tright = 2 * i + 2  # right child\n",
        "\t\tif (child <= len(self.__A)-1):\n",
        "\t\t\tif (right <= len(self.__A)-1 and self.__A[child] < self.__A[right]):\n",
        "\t\t\t\tchild = right  # index of larger child\n",
        "\t\t\tif self.__A[i] < self.__A[child]:\n",
        "\t\t\t\tself.__A[i], self.__A[child] = self.__A[child], self.__A[i]\n",
        "\t\t\t\tself.__percolateDown(child)\n",
        "\n",
        "\tdef max(self):\n",
        "\t\treturn self.__A[0]\n",
        "\n",
        "\t# 힙 만들기\n",
        "\tdef buildHeap(self):\n",
        "\t\tfor i in range((len(self.__A) - 2) // 2, -1, -1):\n",
        "\t\t\tself.__percolateDown(i)\n",
        "\n",
        "\t# 힙이 비었는지 확인하기\n",
        "\tdef isEmpty(self) -> bool:\n",
        "\t\treturn len(self.__A) == 0\n",
        "\n",
        "\tdef clear(self):\n",
        "\t\tself.__A = []\n",
        "\n",
        "\tdef size(self) -> int:\n",
        "\t\treturn len(self.__A)"
      ]
    },
    {
      "cell_type": "code",
      "source": [
        "# 2. 생일 데이터 파일 직접 열기\n",
        "import csv\n",
        "from datetime import datetime\n",
        "\n",
        "heap = Heap()\n",
        "\n",
        "with open(\"birthday.csv\", encoding='utf-8') as f:\n",
        "    reader = csv.reader(f)\n",
        "    next(reader)  # 헤더 건너뛰기\n",
        "\n",
        "    for row in reader:\n",
        "        try:\n",
        "            name = row[1].strip()  # 이름\n",
        "            birth_raw = row[2].strip()  # 생년월일8자리\n",
        "            birth_date = datetime.strptime(birth_raw, \"%Y%m%d\")\n",
        "            timestamp = birth_date.timestamp()\n",
        "            heap.insert((timestamp, name, birth_raw))  # 힙에 (우선순위, 이름, 생일) 삽입\n",
        "        except:\n",
        "            continue  # 생일 형식 이상한 건 생략\n",
        "\n",
        "# 3. 생일이 가장 늦은 친구 10명 출력\n",
        "print(\"🎂 생일이 가장 늦은 친구 10명:\")\n",
        "for _ in range(10):\n",
        "    if not heap.isEmpty():\n",
        "        _, name, birth = heap.deleteMax()\n",
        "        print(f\"{name} - {birth}\")"
      ],
      "metadata": {
        "colab": {
          "base_uri": "https://localhost:8080/"
        },
        "id": "OvNhEFas8T9v",
        "outputId": "f98e76d5-2045-4938-c5a0-64a62d3f6ba8"
      },
      "execution_count": 4,
      "outputs": [
        {
          "output_type": "stream",
          "name": "stdout",
          "text": [
            "🎂 생일이 가장 늦은 친구 10명:\n",
            "신수민 - 20051230\n",
            "이서영 - 20051225\n",
            "강민주 - 20051214\n",
            "김민경 - 20051202\n",
            "이서영 - 20051112\n",
            "배시은 - 20051102\n",
            "김여원 - 20051031\n",
            "이서진 - 20051028\n",
            "서홍빈 - 20051024\n",
            "김예빈 - 20051019\n"
          ]
        }
      ]
    },
    {
      "cell_type": "markdown",
      "source": [
        "### __4. 같은 조 친구들의 이름과 생년월일만 출력__"
      ],
      "metadata": {
        "id": "-_7OFfHrKtR9"
      }
    },
    {
      "cell_type": "code",
      "source": [
        "# 노드 클래스 정의\n",
        "class BidirectNode:\n",
        "    def __init__(self, item, prev, next):\n",
        "        self.item = item\n",
        "        self.prev = prev\n",
        "        self.next = next\n",
        "\n",
        "# 양방향 원형 연결 리스트 클래스 정의\n",
        "class CircularDoublyLinkedList:\n",
        "    def __init__(self):\n",
        "        self.__head = BidirectNode(\"dummy\", None, None)\n",
        "        self.__head.prev = self.__head\n",
        "        self.__head.next = self.__head\n",
        "        self.__numItems = 0\n",
        "\n",
        "    def insert(self, i: int, newItem) -> None:\n",
        "        if 0 <= i <= self.__numItems:\n",
        "            prev = self.getNode(i - 1)\n",
        "            newNode = BidirectNode(newItem, prev, prev.next)\n",
        "            newNode.next.prev = newNode\n",
        "            prev.next = newNode\n",
        "            self.__numItems += 1\n",
        "        else:\n",
        "            print(\"index\", i, \": out of bound in insert()\")\n",
        "\n",
        "    def append(self, newItem) -> None:\n",
        "        prev = self.__head.prev\n",
        "        newNode = BidirectNode(newItem, prev, self.__head)\n",
        "        prev.next = newNode\n",
        "        self.__head.prev = newNode\n",
        "        self.__numItems += 1\n",
        "\n",
        "    def pop(self, *args):\n",
        "        if self.isEmpty():\n",
        "            return None\n",
        "        if len(args) != 0:\n",
        "            i = args[0]\n",
        "        if len(args) == 0 or i == -1:\n",
        "            i = self.__numItems - 1\n",
        "        if 0 <= i <= self.__numItems - 1:\n",
        "            curr = self.getNode(i)\n",
        "            retItem = curr.item\n",
        "            curr.prev.next = curr.next\n",
        "            curr.next.prev = curr.prev\n",
        "            self.__numItems -= 1\n",
        "            return retItem\n",
        "        else:\n",
        "            return None\n",
        "\n",
        "    def remove(self, x):\n",
        "        curr = self.__findNode(x)\n",
        "        if curr is not None:\n",
        "            curr.prev.next = curr.next\n",
        "            curr.next.prev = curr.prev\n",
        "            self.__numItems -= 1\n",
        "            return x\n",
        "        else:\n",
        "            return None\n",
        "\n",
        "    def get(self, *args):\n",
        "        if self.isEmpty():\n",
        "            return None\n",
        "        if len(args) != 0:\n",
        "            i = args[0]\n",
        "        if len(args) == 0 or i == -1:\n",
        "            i = self.__numItems - 1\n",
        "        if 0 <= i <= self.__numItems - 1:\n",
        "            return self.getNode(i).item\n",
        "        else:\n",
        "            return None\n",
        "\n",
        "    def index(self, x) -> int:\n",
        "        cnt = 0\n",
        "        for element in self:\n",
        "            if element == x:\n",
        "                return cnt\n",
        "            cnt += 1\n",
        "        return -12345\n",
        "\n",
        "    def isEmpty(self) -> bool:\n",
        "        return self.__numItems == 0\n",
        "\n",
        "    def size(self) -> int:\n",
        "        return self.__numItems\n",
        "\n",
        "    def clear(self):\n",
        "        self.__head = BidirectNode(\"dummy\", None, None)\n",
        "        self.__head.prev = self.__head\n",
        "        self.__head.next = self.__head\n",
        "        self.__numItems = 0\n",
        "\n",
        "    def count(self, x) -> int:\n",
        "        cnt = 0\n",
        "        for element in self:\n",
        "            if element == x:\n",
        "                cnt += 1\n",
        "        return cnt\n",
        "\n",
        "    def extend(self, a):\n",
        "        for element in a:\n",
        "            self.append(element)\n",
        "\n",
        "    def copy(self) -> 'CircularDoublyLinkedList':\n",
        "        a = CircularDoublyLinkedList()\n",
        "        for element in self:\n",
        "            a.append(element)\n",
        "        return a\n",
        "\n",
        "    def reverse(self) -> None:\n",
        "        prev = self.__head\n",
        "        curr = prev.next\n",
        "        next = curr.next\n",
        "        self.__head.next = prev.prev\n",
        "        self.__head.prev = curr\n",
        "        for i in range(self.__numItems):\n",
        "            curr.next = prev\n",
        "            curr.prev = next\n",
        "            prev = curr\n",
        "            curr = next\n",
        "            next = next.next\n",
        "\n",
        "    def sort(self) -> None:\n",
        "        a = []\n",
        "        for element in self:\n",
        "            a.append(element)\n",
        "        a.sort()\n",
        "        self.clear()\n",
        "        for element in a:\n",
        "            self.append(element)\n",
        "\n",
        "    def __findNode(self, x) -> BidirectNode:\n",
        "        curr = self.__head.next\n",
        "        while curr != self.__head:\n",
        "            if curr.item == x:\n",
        "                return curr\n",
        "            curr = curr.next\n",
        "        return None\n",
        "\n",
        "    def getNode(self, i: int) -> BidirectNode:\n",
        "        curr = self.__head\n",
        "        for index in range(i + 1):\n",
        "            curr = curr.next\n",
        "        return curr\n",
        "\n",
        "    def printList(self) -> None:\n",
        "        for element in self:\n",
        "            print(element, end=' ')\n",
        "        print()\n",
        "\n",
        "    def __iter__(self):  # ✅ 올바른 위치에 정의\n",
        "        return CircularDoublyLinkedListIterator(self)\n",
        "\n",
        "\n",
        "class CircularDoublyLinkedListIterator:\n",
        "    def __init__(self, alist):\n",
        "        self.__head = alist.getNode(-1)  # 더미 헤드\n",
        "        self.iterPosition = self.__head.next\n",
        "\n",
        "    def __next__(self):\n",
        "        if self.iterPosition == self.__head:\n",
        "            raise StopIteration\n",
        "        else:\n",
        "            item = self.iterPosition.item\n",
        "            self.iterPosition = self.iterPosition.next\n",
        "            return item\n"
      ],
      "metadata": {
        "id": "BJzACmJOJG-G"
      },
      "execution_count": 7,
      "outputs": []
    },
    {
      "cell_type": "code",
      "source": [
        "import csv\n",
        "\n",
        "cdll = CircularDoublyLinkedList()\n",
        "\n",
        "with open(\"birthday.csv\", encoding='utf-8') as f:\n",
        "    reader = csv.reader(f)\n",
        "    next(reader)  # 첫 줄은 헤더이므로 건너뜀\n",
        "\n",
        "    for row in reader:\n",
        "        try:\n",
        "            name = row[1].strip()\n",
        "            birth = row[2].strip()\n",
        "            cdll.append((name, birth))  # 리스트에 (이름, 생일) 형태로 저장\n",
        "        except:\n",
        "            continue\n",
        "\n",
        "# 출력 대상 이름 리스트\n",
        "target_names = [\n",
        "    \"권보은\", \"김승연\", \"이서영\", \"이아현\", \"임성민\",\n",
        "    \"은유빈\", \"이예은\", \"정예은\", \"김주원\", \"서홍빈\"\n",
        "]\n",
        "\n",
        "# 리스트에서 대상 학생 정보 찾기\n",
        "print(\"🎉 선택된 학생 10명의 생일 정보:\")\n",
        "for item in cdll:\n",
        "    name, birth = item\n",
        "    if name in target_names:\n",
        "        print(f\"{name} - {birth}\")"
      ],
      "metadata": {
        "colab": {
          "base_uri": "https://localhost:8080/"
        },
        "id": "euPhgegn98tH",
        "outputId": "f32578f8-340e-4a4b-d6b2-67ec5235930a"
      },
      "execution_count": 8,
      "outputs": [
        {
          "output_type": "stream",
          "name": "stdout",
          "text": [
            "🎉 선택된 학생 10명의 생일 정보:\n",
            "권보은 - 20041004\n",
            "김승연 - 20030124\n",
            "김주원 - 20030110\n",
            "서홍빈 - 20051024\n",
            "은유빈 - 20040503\n",
            "이서영 - 20051112\n",
            "이서영 - 20051225\n",
            "이아현 - 20010904\n",
            "이예은 - 20030109\n",
            "임성민 - 20021213\n",
            "정예은 - \n"
          ]
        }
      ]
    },
    {
      "cell_type": "markdown",
      "source": [
        "### __5. 교재 8장 우선 순위 큐 연습문제__"
      ],
      "metadata": {
        "id": "Tf_A9U-0K291"
      }
    },
    {
      "cell_type": "markdown",
      "source": [
        "### __5-1.__"
      ],
      "metadata": {
        "id": "0lqTH8NhNwop"
      }
    },
    {
      "cell_type": "markdown",
      "source": [
        "최대 힙은 완전 이진 트리의 형태를 가지며, 모든 부모 노드는 자식 노드보다 크거나 같은 값을 가져야 한다. 이 규칙은 트리 전체에 재귀적으로 적용되기 때문에, 트리에서 깊이가 얕은(루트에 가까운) 노드는 항상 깊이가 더 깊은(말단에 가까운) 노드보다 값이 크거나 같아야 한다. 따라서 더 얕은 곳에 있는 노드가 더 깊은 곳에 있는 노드보다 작은 값을 갖는 경우는 발생할 수 없다.\n",
        "\n",
        "결론적으로, 최대 힙에서는 더 얕은 위치에 있는 원소가 더 깊은 위치에 있는 원소보다 작은 값을 가질 수 없다."
      ],
      "metadata": {
        "id": "LRgvAMzhPOZ4"
      }
    },
    {
      "cell_type": "markdown",
      "source": [
        "### __5-2.__"
      ],
      "metadata": {
        "id": "Qyos4J14N1zZ"
      }
    },
    {
      "cell_type": "markdown",
      "source": [
        "최대 힙에서 A[0]은 항상 가장 큰 값을 가진다. 이는 최대 힙의 정의에 따라 루트 노드가 전체에서 가장 큰 원소이기 때문이다. 하지만 A[n−1], 즉 배열의 마지막 위치에 있는 원소는 단지 트리를 배열에 저장할 때의 위치일 뿐이며, 값의 크기와는 무관하다. 힙은 완전 이진 트리이므로 배열로 저장할 때 트리 구조의 깊은 말단 노드들이 뒤에 위치하게 되며, 이들은 반드시 가장 작은 값을 갖는다고 보장할 수 없다.\n",
        "\n",
        "결론적으로, A[0]은 항상 최대값이지만, A[n−1]이 항상 최소값이라는 보장은 없다.\n",
        "A[n−1]은 단지 배열상 마지막 위치에 존재하는 원소일 뿐이며, 그 값은 힙 속성과는 무관하다."
      ],
      "metadata": {
        "id": "JV_FVshEQv8t"
      }
    },
    {
      "cell_type": "markdown",
      "source": [
        "### __5-3.__"
      ],
      "metadata": {
        "id": "2vLEeEDQN5Q4"
      }
    },
    {
      "cell_type": "markdown",
      "source": [
        "- 최대 힙을 배열로 표현한 구조 A[0...n−1]에 대해 buildHeap() 알고리즘은\n",
        "배열의 중간 인덱스부터 **루트(인덱스 0)**까지 거꾸로 순회하며 각 노드에 대해 percolateDown()을 수행한다.\n",
        "- 배열의 중간 인덱스인 ⌊n/2⌋부터 끝까지의 노드들은 모두 **리프 노드(자식이 없는 노드)**이므로 이 노드들은 아래로 스며내릴 필요가 없다. 따라서 percolateDown()을 수행할 필요가 없는 노드는 정확히 ⌊n/2⌋개이다.\n",
        "\n",
        "- 이 값은 힙의 전체 노드 중 **하위 절반(리프)**에 해당하며, buildHeap() 알고리즘은 이들을 제외한 나머지 노드에서만 작업을 수행한다.\n",
        "\n",
        "결론적으로, buildHeap()에서 percolateDown을 수행하지 않고 넘어가는 노드는 정확히 ⌊n/2⌋개이다."
      ],
      "metadata": {
        "id": "7IOcrwoKQ7gO"
      }
    },
    {
      "cell_type": "markdown",
      "source": [
        "### __5-4.__"
      ],
      "metadata": {
        "id": "flMW9cGKN7J2"
      }
    },
    {
      "cell_type": "markdown",
      "source": [
        "- 최악의 경우  \n",
        "  - 각 내부 노드가 자신의 자식 노드와 비교해 아래로 끝까지 내려가야 하는 경우\n",
        "\n",
        "  - 가장 높은 루트 노드는 log n만큼 스며내려야 함\n",
        "\n",
        "  - 이런 경우가 전체에 걸쳐 발생한다고 가정할 때, 단순히 생각하면 O(n log n)처럼 보일 수 있음\n",
        "\n",
        "  - 하지만 실제로는 트리의 구조상 높은 위치일수록 노드 수가 적기 때문에 전체 합은 O(n)\n",
        "\n",
        "  **결론**: buildHeap()의 최악의 경우 시간 복잡도는 O(n)\n",
        "\n",
        "-  최선의 경우\n",
        "  - 각 노드가 한 번도 자식과 교환하지 않고 한 번의 비교만으로 힙 조건을 만족하는 경우\n",
        "\n",
        "  - 즉, 이미 배열이 거의 힙 구조에 가까워서 추가 작업이 거의 필요 없는 상황\n",
        "\n",
        "  - 이 경우 각 노드는 비교는 하되 교환 없이 종료되므로, 전체적으로 비교 횟수는 최소\n",
        "\n",
        "  **결론**: 최선의 경우에도 전체 노드를 순회하므로 시간 복잡도는 여전히 O(n)"
      ],
      "metadata": {
        "id": "voZbzH7GRMfQ"
      }
    },
    {
      "cell_type": "markdown",
      "source": [
        "### __5-5.__"
      ],
      "metadata": {
        "id": "HuQyVU1dN9LS"
      }
    },
    {
      "cell_type": "markdown",
      "source": [
        "힙은 완전 이진 트리 구조를 배열로 표현한 자료구조이기 때문에,\n",
        "힙의 마지막 원소는 배열의 마지막 요소 A[n−1]와 정확히 일치함.  \n",
        "힙에서 마지막 원소(A[n−1])를 제거하는 것은 매우 간단하며, 별도의 힙 유지 작업 없이 O(1) 시간에 수행 가능함."
      ],
      "metadata": {
        "id": "utG0EMNlRM7g"
      }
    },
    {
      "cell_type": "markdown",
      "source": [
        "### __5-6.__"
      ],
      "metadata": {
        "id": "YtNHXSsUN-tT"
      }
    },
    {
      "cell_type": "markdown",
      "source": [
        "**방식 1**: 스며내리기 (percolateDown) 방식 — 본문 방식\n",
        "- 인덱스 ⌊n/2⌋부터 0까지 거꾸로 순회하며 percolateDown() 수행\n",
        "\n",
        "- 각 노드의 높이에 따라 작업 횟수가 다르고, 자식부터 정렬되므로 효율적\n",
        "\n",
        "- 시간 복잡도는 O(n)\n",
        "→ 증명된 결과로, percolateDown 방식의 buildHeap()은 선형 시간에 가능\n",
        "\n",
        "**방식 2**: 스며오르기 (percolateUp) 방식\n",
        "- 배열 A[0...n−1]의 각 원소를 앞에서부터 차례대로 힙에 삽입한다고 생각\n",
        "\n",
        "- 삽입 시마다 스며오르기 수행 → 각 삽입 연산당 O(log n) 시간\n",
        "\n",
        "- 총 n개 원소를 삽입해야 하므로 O(n log n) 시간 소요\n",
        "\n",
        "**결론**: 본문에 제시한 방법에 비해 비효율적이다"
      ],
      "metadata": {
        "id": "zFhWVDxPRNVY"
      }
    },
    {
      "cell_type": "markdown",
      "source": [
        "### __5-7.__"
      ],
      "metadata": {
        "id": "AaSFFCnCOBHS"
      }
    },
    {
      "cell_type": "markdown",
      "source": [
        "힙에서 어떤 원소의 값이 증가하면, 해당 노드는 스며오르기를 통해 루트 방향으로 이동하며 힙 속성을 복구해야 한다."
      ],
      "metadata": {
        "id": "tGCcEjOURNq9"
      }
    },
    {
      "cell_type": "markdown",
      "source": [
        "### __6. LeetCode 703.Kth Largest Element in Stream__"
      ],
      "metadata": {
        "id": "4QMH_HEUK8b4"
      }
    },
    {
      "cell_type": "code",
      "source": [
        "import heapq\n",
        "\n",
        "class KthLargest:\n",
        "\n",
        "    def __init__(self, k: int, nums: list[int]):\n",
        "        self.k = k\n",
        "        self.min_heap = []\n",
        "        for num in nums:\n",
        "            self.add(num)  # 초기값도 힙에 넣기\n",
        "\n",
        "    def add(self, val: int) -> int:\n",
        "        heapq.heappush(self.min_heap, val)\n",
        "        if len(self.min_heap) > self.k:\n",
        "            heapq.heappop(self.min_heap)\n",
        "        return self.min_heap[0]  # k번째로 큰 값\n",
        "\n",
        "# 예시 실행\n",
        "k = 3\n",
        "nums = [4, 5, 8, 2]\n",
        "kthLargest = KthLargest(k, nums)\n",
        "\n",
        "# 테스트 입력\n",
        "inputs = [3, 5, 10, 9, 4]\n",
        "\n",
        "print(f\"초기값: {nums} / k = {k}\")\n",
        "for val in inputs:\n",
        "    result = kthLargest.add(val)\n",
        "    print(f\"add({val}) → {result}\")\n"
      ],
      "metadata": {
        "colab": {
          "base_uri": "https://localhost:8080/"
        },
        "id": "Fy_ibA90MBcY",
        "outputId": "22c29820-894c-4114-a6b1-e91aa40d1a1b"
      },
      "execution_count": 12,
      "outputs": [
        {
          "output_type": "stream",
          "name": "stdout",
          "text": [
            "초기값: [4, 5, 8, 2] / k = 3\n",
            "add(3) → 4\n",
            "add(5) → 5\n",
            "add(10) → 5\n",
            "add(9) → 8\n",
            "add(4) → 8\n"
          ]
        }
      ]
    }
  ]
}